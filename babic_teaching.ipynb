{
 "cells": [
  {
   "cell_type": "code",
   "execution_count": null,
   "metadata": {},
   "outputs": [],
   "source": [
    "import pandas as pd \n",
    "import altair as alt "
   ]
  },
  {
   "cell_type": "code",
   "execution_count": null,
   "metadata": {},
   "outputs": [],
   "source": [
    "data = pd.DataFrame({\n",
    "    'Course': ['Knowledge & Reality', 'Philosophy of Science', 'PPE'],\n",
    "    'my_average': [4.7, 4.76, 4.9],\n",
    "    'dept_average': [4.63, 4.5, 4.61]}\n",
    ")\n",
    "\n",
    "my_avg = alt.Chart().mark_bar().encode(\n",
    "        y='Course',\n",
    "        x=alt.X('my_average', title='My median (blue bar), Dept 5-yr median (red line)', scale=alt.Scale(domain=(0, 5)))\n",
    ")\n",
    "\n",
    "dept_avg = alt.Chart().mark_rule(color='red').encode(\n",
    "    y='Course',\n",
    "    x=alt.X('dept_average'), \n",
    "    size=alt.value(2.5)\n",
    ")\n",
    "\n",
    "chart = alt.layer(my_avg, dept_avg).properties(\n",
    "    data=data\n",
    ").configure_view(\n",
    "        height=400,\n",
    "        width=500\n",
    ").configure_axis(\n",
    "        titleFontSize=14,\n",
    "        titleFontWeight='normal'\n",
    ").properties(\n",
    "    width=600,\n",
    "    height=175\n",
    ")"
   ]
  },
  {
   "cell_type": "code",
   "execution_count": null,
   "metadata": {},
   "outputs": [],
   "source": [
    "chart.configure_scale(\n",
    "        bandPaddingInner=0.3,\n",
    "        bandPaddingOuter=1\n",
    ").configure_axisX(labelFontSize=14\n",
    ").configure_axisY(labelFontSize=14)"
   ]
  },
  {
   "cell_type": "code",
   "execution_count": null,
   "metadata": {},
   "outputs": [],
   "source": [
    "data = pd.DataFrame({\n",
    "    'Attribute': ['Overall effectiveness', 'Knowledge of subject matter', 'Clarity', 'Discussion', 'Availability'],\n",
    "    'my_average': [4.79, 4.89, 4.69, 4.77, 4.87],\n",
    "    'dept_average': [4.59, 4.83, 4.5, 4.56, 4.5]}\n",
    ")\n",
    "\n",
    "my_avg = alt.Chart().mark_bar().encode(\n",
    "        y='Attribute',\n",
    "        x=alt.X('my_average', title='My median (blue bar), Dept 5-yr median (red line)', scale=alt.Scale(domain=(0, 5)))\n",
    ")\n",
    "\n",
    "dept_avg = alt.Chart().mark_rule(color='red').encode(\n",
    "    y='Attribute',\n",
    "    x=alt.X('dept_average'),\n",
    "    size=alt.value(2.5)\n",
    ")\n",
    "\n",
    "chart = alt.layer(my_avg, dept_avg).properties(\n",
    "    data=data\n",
    ").configure_view(\n",
    "        height=400,\n",
    "        width=500\n",
    ").configure_axis(\n",
    "        titleFontSize=14,\n",
    "        titleFontWeight='normal'\n",
    ").properties(\n",
    "    width=600,\n",
    "    height=225\n",
    ")"
   ]
  },
  {
   "cell_type": "code",
   "execution_count": null,
   "metadata": {},
   "outputs": [],
   "source": [
    "chart.configure_scale(\n",
    "        bandPaddingInner=0.3,\n",
    "        bandPaddingOuter=1\n",
    ").configure_axisX(labelFontSize=14\n",
    ").configure_axisY(labelFontSize=14)"
   ]
  },
  {
   "cell_type": "code",
   "execution_count": null,
   "metadata": {},
   "outputs": [],
   "source": [
    "data = pd.DataFrame({\n",
    "    'Course': ['Knowledge & Reality', 'Prob., Evidence & Belief', 'Ethics, Statistics & Law'],\n",
    "    'my_average': [6.7, 6.6, 6.5],\n",
    "    'dept_average': [4.63, 4.5, 4.61]}\n",
    ")\n",
    "\n",
    "my_avg = alt.Chart().mark_bar().encode(\n",
    "        y='Course',\n",
    "        x=alt.X('my_average', title='My mean', scale=alt.Scale(domain=(0, 7)))\n",
    ")\n",
    "\n",
    "dept_avg = alt.Chart().mark_rule(color='red').encode(\n",
    "    y='Course',\n",
    "    x=alt.X('dept_average'), \n",
    "    size=alt.value(2.5)\n",
    ")\n",
    "\n",
    "chart = alt.layer(my_avg).properties(\n",
    "    data=data\n",
    ").configure_view(\n",
    "        height=400,\n",
    "        width=500\n",
    ").configure_axis(\n",
    "        titleFontSize=14,\n",
    "        titleFontWeight='normal'\n",
    ").properties(\n",
    "    width=600,\n",
    "    height=175\n",
    ")"
   ]
  },
  {
   "cell_type": "code",
   "execution_count": null,
   "metadata": {},
   "outputs": [],
   "source": [
    "chart.configure_scale(\n",
    "        bandPaddingInner=0.3,\n",
    "        bandPaddingOuter=1\n",
    ").configure_axisX(labelFontSize=14\n",
    ").configure_axisY(labelFontSize=14)"
   ]
  },
  {
   "cell_type": "code",
   "execution_count": null,
   "metadata": {},
   "outputs": [],
   "source": [
    "data = pd.DataFrame({\n",
    "    'Attribute': ['Knowledge', 'Enthusiasm', 'Availability', 'Discussion', 'Helpfulness'],\n",
    "    'my_average': [6.6, 6.923, 6.533, 6.9, 6.9],\n",
    "    'dept_average': [4.59, 4.83, 4.5, 4.56, 4.5]}\n",
    ")\n",
    "\n",
    "my_avg = alt.Chart().mark_bar().encode(\n",
    "        y='Attribute',\n",
    "        x=alt.X('my_average', title='My mean', scale=alt.Scale(domain=(0, 7)))\n",
    ")\n",
    "\n",
    "dept_avg = alt.Chart().mark_rule(color='red').encode(\n",
    "    y='Attribute',\n",
    "    x=alt.X('dept_average'),\n",
    "    size=alt.value(2.5)\n",
    ")\n",
    "\n",
    "chart = alt.layer(my_avg).properties(\n",
    "    data=data\n",
    ").configure_view(\n",
    "        height=400,\n",
    "        width=500\n",
    ").configure_axis(\n",
    "        titleFontSize=14,\n",
    "        titleFontWeight='normal'\n",
    ").properties(\n",
    "    width=600,\n",
    "    height=225\n",
    ")"
   ]
  },
  {
   "cell_type": "code",
   "execution_count": null,
   "metadata": {},
   "outputs": [],
   "source": [
    "chart.configure_scale(\n",
    "        bandPaddingInner=0.3,\n",
    "        bandPaddingOuter=1\n",
    ").configure_axisX(labelFontSize=14\n",
    ").configure_axisY(labelFontSize=14)"
   ]
  }
 ],
 "metadata": {
  "kernelspec": {
   "display_name": "Python 3",
   "language": "python",
   "name": "python3"
  },
  "language_info": {
   "codemirror_mode": {
    "name": "ipython",
    "version": 3
   },
   "file_extension": ".py",
   "mimetype": "text/x-python",
   "name": "python",
   "nbconvert_exporter": "python",
   "pygments_lexer": "ipython3",
   "version": "3.6.6"
  }
 },
 "nbformat": 4,
 "nbformat_minor": 2
}
